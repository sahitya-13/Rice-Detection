{
 "cells": [
  {
   "cell_type": "code",
   "execution_count": 1,
   "id": "4797560d",
   "metadata": {},
   "outputs": [
    {
     "name": "stdout",
     "output_type": "stream",
     "text": [
      "Found 60000 images belonging to 5 classes.\n",
      "Found 15000 images belonging to 5 classes.\n",
      "Epoch 1/10\n",
      "3750/3750 [==============================] - 1207s 321ms/step - loss: 0.1160 - accuracy: 0.9643 - val_loss: 0.0926 - val_accuracy: 0.9665\n",
      "Epoch 2/10\n",
      "3750/3750 [==============================] - 694s 185ms/step - loss: 0.0597 - accuracy: 0.9800 - val_loss: 0.0680 - val_accuracy: 0.9762\n",
      "Epoch 3/10\n",
      "3750/3750 [==============================] - 584s 156ms/step - loss: 0.0521 - accuracy: 0.9822 - val_loss: 0.0584 - val_accuracy: 0.9790\n",
      "Epoch 4/10\n",
      "3750/3750 [==============================] - 567s 151ms/step - loss: 0.0497 - accuracy: 0.9826 - val_loss: 0.0514 - val_accuracy: 0.9827\n",
      "Epoch 5/10\n",
      "3750/3750 [==============================] - 723s 193ms/step - loss: 0.0481 - accuracy: 0.9836 - val_loss: 0.0555 - val_accuracy: 0.9819\n",
      "Epoch 6/10\n",
      "3750/3750 [==============================] - 574s 153ms/step - loss: 0.0470 - accuracy: 0.9840 - val_loss: 0.0601 - val_accuracy: 0.9790\n",
      "Epoch 7/10\n",
      "3750/3750 [==============================] - 656s 175ms/step - loss: 0.0430 - accuracy: 0.9854 - val_loss: 0.0537 - val_accuracy: 0.9818\n",
      "Epoch 8/10\n",
      "3750/3750 [==============================] - 578s 154ms/step - loss: 0.0409 - accuracy: 0.9865 - val_loss: 0.0452 - val_accuracy: 0.9853\n",
      "Epoch 9/10\n",
      "3750/3750 [==============================] - 755s 201ms/step - loss: 0.0406 - accuracy: 0.9861 - val_loss: 0.0508 - val_accuracy: 0.9822\n",
      "Epoch 10/10\n",
      "3750/3750 [==============================] - 493s 131ms/step - loss: 0.0389 - accuracy: 0.9861 - val_loss: 0.0439 - val_accuracy: 0.9857\n"
     ]
    },
    {
     "name": "stderr",
     "output_type": "stream",
     "text": [
      "e:\\rice_type_detection\\rice-env\\lib\\site-packages\\keras\\src\\engine\\training.py:3000: UserWarning: You are saving your model as an HDF5 file via `model.save()`. This file format is considered legacy. We recommend using instead the native Keras format, e.g. `model.save('my_model.keras')`.\n",
      "  saving_api.save_model(\n"
     ]
    }
   ],
   "source": [
    "import os\n",
    "import numpy as np\n",
    "import scipy\n",
    "import scipy.ndimage  \n",
    "import matplotlib.pyplot as plt\n",
    "import tensorflow as tf\n",
    "from tensorflow.keras.preprocessing.image import ImageDataGenerator\n",
    "from tensorflow.keras.applications import MobileNetV2\n",
    "from tensorflow.keras.layers import Dense, GlobalAveragePooling2D\n",
    "from tensorflow.keras.models import Model\n",
    "from tensorflow.keras.optimizers import Adam\n",
    "\n",
    "# Set parameters\n",
    "data_dir = 'dataset'\n",
    "IMG_SIZE = 128\n",
    "BATCH_SIZE = 16\n",
    "EPOCHS = 10\n",
    "\n",
    "# Data generators\n",
    "train_datagen = ImageDataGenerator(\n",
    "    rescale=1./255,\n",
    "    validation_split=0.2,\n",
    "    horizontal_flip=True,\n",
    "    zoom_range=0.2,\n",
    "    shear_range=0.2\n",
    ")\n",
    "\n",
    "train_gen = train_datagen.flow_from_directory(\n",
    "    data_dir,\n",
    "    target_size=(IMG_SIZE, IMG_SIZE),\n",
    "    batch_size=BATCH_SIZE,\n",
    "    class_mode='categorical',\n",
    "    subset='training'\n",
    ")\n",
    "\n",
    "val_gen = train_datagen.flow_from_directory(\n",
    "    data_dir,\n",
    "    target_size=(IMG_SIZE, IMG_SIZE),\n",
    "    batch_size=BATCH_SIZE,\n",
    "    class_mode='categorical',\n",
    "    subset='validation'\n",
    ")\n",
    "\n",
    "# Load base model\n",
    "base_model = MobileNetV2(include_top=False, input_shape=(IMG_SIZE, IMG_SIZE, 3), weights='imagenet')\n",
    "base_model.trainable = False\n",
    "\n",
    "# Add custom layers\n",
    "x = base_model.output\n",
    "x = GlobalAveragePooling2D()(x)\n",
    "x = Dense(128, activation='relu')(x)\n",
    "output = Dense(train_gen.num_classes, activation='softmax')(x)\n",
    "\n",
    "model = Model(inputs=base_model.input, outputs=output)\n",
    "model.compile(optimizer=Adam(learning_rate=0.0001), loss='categorical_crossentropy', metrics=['accuracy'])\n",
    "\n",
    "# Train and save model\n",
    "history = model.fit(train_gen, epochs=EPOCHS, validation_data=val_gen)\n",
    "model.save(\"rice.h5\")\n"
   ]
  },
  {
   "cell_type": "code",
   "execution_count": null,
   "id": "97d0e167",
   "metadata": {},
   "outputs": [
    {
     "ename": "",
     "evalue": "",
     "output_type": "error",
     "traceback": [
      "\u001b[1;31mThe file 'rice-env\\lib\\site-packages\\typing_extensions.py' seems to be overriding built in modules and interfering with the startup of the kernel. Consider renaming the file and starting the kernel again.\n",
      "\u001b[1;31mClick <a href='https://aka.ms/kernelFailuresOverridingBuiltInModules'>here</a> for more info."
     ]
    }
   ],
   "source": [
    "# Print final training and validation accuracy\n",
    "print(\"Final Training Accuracy:\", history.history['accuracy'][-1])\n",
    "print(\"Final Validation Accuracy:\", history.history['val_accuracy'][-1])\n"
   ]
  }
 ],
 "metadata": {
  "kernelspec": {
   "display_name": "rice-env",
   "language": "python",
   "name": "python3"
  },
  "language_info": {
   "codemirror_mode": {
    "name": "ipython",
    "version": 3
   },
   "file_extension": ".py",
   "mimetype": "text/x-python",
   "name": "python",
   "nbconvert_exporter": "python",
   "pygments_lexer": "ipython3",
   "version": "3.10.0"
  }
 },
 "nbformat": 4,
 "nbformat_minor": 5
}
